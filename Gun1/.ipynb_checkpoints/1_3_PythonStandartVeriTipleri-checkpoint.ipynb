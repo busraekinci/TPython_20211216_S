{
 "cells": [
  {
   "cell_type": "markdown",
   "id": "heavy-transcription",
   "metadata": {},
   "source": [
    "## Paython Standart Veri Tipleri\n",
    "\n",
    "* Diskte veya memoryde veri tutabiliriz.\n",
    "* Memoryde veri tutamak için değişken tanımlamak gerekir. Memoryde ne kadar ve nasıl bir yer ayrılacağını veri tipi belirler.\n",
    "* mesela int için 32 bit yer kaplar.\n",
    "* Python Dynamic Type özelliğine sahiptir. Yani aynı değişkene programın farklı yerlerinde farklı tipten veriler atanabilir.\n",
    "\n",
    "### Standart Veri Tipleri\n",
    "\n",
    "* Standart veri tipleri herhangi bir paket yüklemeden kullanacağınız tiplerdir.\n",
    "\n",
    "1. **Primitive Types:**\n",
    "    * `None`: Yokluk anlamına gelir. SQL'deki NULL'ın karşılığıdır. (NaN, NA, None şekilnde görünebilir)\n",
    "    * Numeric:\n",
    "        * `int`, `float`, `complex`\n",
    "    * Boolen:\n",
    "        * `bool` yani True/False\n",
    "2. **Container Types:**\n",
    "    * **Sequence Types** (index-Value şeklinde değer. Sıralıdır. Sıra numarası ile elemanlarına erişilebilir)\n",
    "        * `str`, `tuple`, `list`\n",
    "            * \", ' ile tanımlanabilir. \"merhaba\"\n",
    "            * (,,,) veya ,,,, tuple tanımlanır. (1,2,3). tuple elemanları güncellenemez.\n",
    "            * [,,,,] ile liste tanımlanır. [1,2,3]\n",
    "    * **Mapping Types** (Key:Value şeklinde veri tutar. Sıralı değildir. key ile elemanlara erişilebilir.)\n",
    "        * `set`, `dict`\n",
    "        * {,,,,} ile set tanımlanır. Kümeler gibi çalışır. Benzersiz elemanları tutar.\n",
    "        * {key:value , key2:value2} ile dict tanımlanır. json dokumnalarına benzer."
   ]
  }
 ],
 "metadata": {
  "kernelspec": {
   "display_name": "Python 3",
   "language": "python",
   "name": "python3"
  },
  "language_info": {
   "codemirror_mode": {
    "name": "ipython",
    "version": 3
   },
   "file_extension": ".py",
   "mimetype": "text/x-python",
   "name": "python",
   "nbconvert_exporter": "python",
   "pygments_lexer": "ipython3",
   "version": "3.8.8"
  },
  "varInspector": {
   "cols": {
    "lenName": 16,
    "lenType": 16,
    "lenVar": 40
   },
   "kernels_config": {
    "python": {
     "delete_cmd_postfix": "",
     "delete_cmd_prefix": "del ",
     "library": "var_list.py",
     "varRefreshCmd": "print(var_dic_list())"
    },
    "r": {
     "delete_cmd_postfix": ") ",
     "delete_cmd_prefix": "rm(",
     "library": "var_list.r",
     "varRefreshCmd": "cat(var_dic_list()) "
    }
   },
   "types_to_exclude": [
    "module",
    "function",
    "builtin_function_or_method",
    "instance",
    "_Feature"
   ],
   "window_display": false
  }
 },
 "nbformat": 4,
 "nbformat_minor": 5
}
