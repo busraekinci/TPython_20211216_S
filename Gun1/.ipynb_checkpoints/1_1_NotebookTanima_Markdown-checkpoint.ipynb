{
 "cells": [
  {
   "cell_type": "markdown",
   "id": "sufficient-buddy",
   "metadata": {},
   "source": [
    "# Python Dili ve Veri Analizi\n",
    "\n",
    "![Python Logo](https://www.python.org/static/img/python-logo@2x.png)\n",
    "\n",
    "## Python Ortamının Hazırlanması\n",
    "\n",
    "**Python** ortamını hazırlamak için:\n",
    "\n",
    "1. Öncelikle [python.org](https://www.python.org/) sitesinden Python enginei indirmek gerekir.\n",
    "2. Sonrasında terminalde veya bir IDE ile çalışılabilir.\n",
    "    * `jupyter`, `jupyter Lab`\n",
    "    * `Visual Studio Code`, `Sypder`, `PyCharm` vs.\n",
    "3. Dilerseniz **Anconda** dağıtımını kurup daha derli toplu çalışabiliriz. `Anaconda Navigator` ile tek bir ekrandan paket ve uygulamaları aktif edebiliriz.\n",
    "\n",
    "---\n",
    "\n",
    "### Komut satırın çalışmak\n",
    "\n",
    "* sola yatık tırnak için `AltGr + ;` sonra boşluk tuşunu kullandık.\n",
    "\n",
    "```shell\n",
    "> python --version\n",
    "> py --version\n",
    "> py3\n",
    "> py -3\n",
    "    > exit()\n",
    "    > help(print)\n",
    "> cls\n",
    "```\n",
    "\n",
    "---\n",
    "\n",
    "### Bazı Python komutları\n",
    "\n",
    "```python\n",
    "\n",
    "#python dilinde tek satırlık yorumlar için # kullanılır.\n",
    "print(\"merhaba\",\"dünyalı\",sep=\"@\", end=\"!\")\n",
    "\n",
    "\n",
    "\"\"\"\n",
    "    Çift veya terk tırnak ile metinler oluşturulur.\n",
    "    Eğer 3'er tane kullanırsak çok satırlı metinler oluşturabiliriz.\n",
    "    Bu bu çok satırlı metinleri çok satırlı yorumları tutmak için de kullanıyoruz.\n",
    "\"\"\"\n",
    "```\n",
    "\n",
    "### Bazı SQL komutları\n",
    "\n",
    "```sql\n",
    "    --ilerleyen bölümlerde sql de yazacağız.\n",
    "    SELECT * FROM TabloAdi\n",
    "    \n",
    "```\n",
    "\n",
    "\n",
    "---\n",
    "\n",
    "### Bazı kısa yollar\n",
    "\n",
    "*Command Mode* kısa yılları\n",
    "\n",
    "* Hücreleri çalıştırmak için <kbd>Ctrl + Enter</kbd> veya <kbd>Shift + Enter</kbd> ya da <kbd>Alt + Enter</kbd> kullanabiliriz.\n",
    "* Üste hücre eklemek için <kbd>A</kbd>, alta eklemek için <kbd>B</kbd>, hücreyi silmek için <kbd>D,D</kbd> tuşlarını, geri almak için <kbd>Z</kbd> tuşunu kullanırız.\n",
    "* Tüm kısa yıllar için <kbd>H</kbd> tuşuna basalım\n",
    "\n",
    "---\n",
    "\n",
    "### Tablo görünümü\n",
    "\n",
    "|Ad|Soyad|\n",
    "|---|----|\n",
    "|Abdullah|Kise|\n",
    "|Ali|Uçan|\n",
    "|Ayşe|Çalışkan|\n",
    "\n",
    "---\n",
    "\n",
    "### Matematiksel Formuller\n",
    "https://rmd4sci.njtierney.com/math\n",
    "\n",
    "* $x^2$ \n",
    "* $\\int$\n",
    "* $\\infty$\n",
    "* $\\frac{1-x}{2-y}$\n",
    "* $\\sum_{i=1}^{n}$\n",
    "* $\\sqrt{p}$\n",
    "* $\\int_0^\\infty x^{-\\alpha}$"
   ]
  }
 ],
 "metadata": {
  "kernelspec": {
   "display_name": "Python 3",
   "language": "python",
   "name": "python3"
  },
  "language_info": {
   "codemirror_mode": {
    "name": "ipython",
    "version": 3
   },
   "file_extension": ".py",
   "mimetype": "text/x-python",
   "name": "python",
   "nbconvert_exporter": "python",
   "pygments_lexer": "ipython3",
   "version": "3.8.8"
  },
  "varInspector": {
   "cols": {
    "lenName": 16,
    "lenType": 16,
    "lenVar": 40
   },
   "kernels_config": {
    "python": {
     "delete_cmd_postfix": "",
     "delete_cmd_prefix": "del ",
     "library": "var_list.py",
     "varRefreshCmd": "print(var_dic_list())"
    },
    "r": {
     "delete_cmd_postfix": ") ",
     "delete_cmd_prefix": "rm(",
     "library": "var_list.r",
     "varRefreshCmd": "cat(var_dic_list()) "
    }
   },
   "types_to_exclude": [
    "module",
    "function",
    "builtin_function_or_method",
    "instance",
    "_Feature"
   ],
   "window_display": false
  }
 },
 "nbformat": 4,
 "nbformat_minor": 5
}
