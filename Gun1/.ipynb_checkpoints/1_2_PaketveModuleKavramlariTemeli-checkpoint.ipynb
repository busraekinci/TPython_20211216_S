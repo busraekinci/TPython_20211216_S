{
 "cells": [
  {
   "cell_type": "markdown",
   "id": "successful-necessity",
   "metadata": {},
   "source": [
    "## Package / Module Kavramı Temelleri\n",
    "\n",
    "* Python kütüphanleri Package adı verilen klasor içerisinde py uzantılı dosyalardan oluşmaktadır.\n",
    "* Python paketlerini indirmek gerekir.\n",
    "\n",
    "```shell\n",
    "> pip install paketAdı\n",
    "> pip uninstall paketAdı\n",
    "```\n",
    "\n",
    "* Yüklü paketler hakkında bilgi almak için:\n",
    "\n",
    "```shell\n",
    "> pip list\n",
    "> pip show paketAdı\n",
    "```\n",
    "\n",
    "* Bilgisayarda yüklü olan paketleri çalışma ortamına almak için\n",
    "\n",
    "```python\n",
    "\n",
    "import paketAdı\n",
    "\n",
    "#takma isim verilebilir\n",
    "import paketAdı as takmaAd\n",
    "\n",
    "#birden fazla paket eklenebilir\n",
    "import paketAdi,paketAdi2\n",
    "\n",
    "#belli bir module odaklanabiliriz\n",
    "from paktAdi import moduleAdi.module\n",
    "\n",
    "```\n",
    "\n",
    "\n",
    "* **Not:**\n",
    "    * ! ile cmd komutlarını notebook üzerinde çalıştırabilriiz.\n",
    "    * `!pip install paketAdi` ile notebook içerisinden paket indirilebilir. Fakat önerilmez. Çünkü çok fazla mesajla notebook dolar."
   ]
  },
  {
   "cell_type": "code",
   "execution_count": 1,
   "id": "balanced-education",
   "metadata": {},
   "outputs": [
    {
     "data": {
      "text/plain": [
       "['ArithmeticError',\n",
       " 'AssertionError',\n",
       " 'AttributeError',\n",
       " 'BaseException',\n",
       " 'BlockingIOError',\n",
       " 'BrokenPipeError',\n",
       " 'BufferError',\n",
       " 'BytesWarning',\n",
       " 'ChildProcessError',\n",
       " 'ConnectionAbortedError',\n",
       " 'ConnectionError',\n",
       " 'ConnectionRefusedError',\n",
       " 'ConnectionResetError',\n",
       " 'DeprecationWarning',\n",
       " 'EOFError',\n",
       " 'Ellipsis',\n",
       " 'EnvironmentError',\n",
       " 'Exception',\n",
       " 'False',\n",
       " 'FileExistsError',\n",
       " 'FileNotFoundError',\n",
       " 'FloatingPointError',\n",
       " 'FutureWarning',\n",
       " 'GeneratorExit',\n",
       " 'IOError',\n",
       " 'ImportError',\n",
       " 'ImportWarning',\n",
       " 'IndentationError',\n",
       " 'IndexError',\n",
       " 'InterruptedError',\n",
       " 'IsADirectoryError',\n",
       " 'KeyError',\n",
       " 'KeyboardInterrupt',\n",
       " 'LookupError',\n",
       " 'MemoryError',\n",
       " 'ModuleNotFoundError',\n",
       " 'NameError',\n",
       " 'None',\n",
       " 'NotADirectoryError',\n",
       " 'NotImplemented',\n",
       " 'NotImplementedError',\n",
       " 'OSError',\n",
       " 'OverflowError',\n",
       " 'PendingDeprecationWarning',\n",
       " 'PermissionError',\n",
       " 'ProcessLookupError',\n",
       " 'RecursionError',\n",
       " 'ReferenceError',\n",
       " 'ResourceWarning',\n",
       " 'RuntimeError',\n",
       " 'RuntimeWarning',\n",
       " 'StopAsyncIteration',\n",
       " 'StopIteration',\n",
       " 'SyntaxError',\n",
       " 'SyntaxWarning',\n",
       " 'SystemError',\n",
       " 'SystemExit',\n",
       " 'TabError',\n",
       " 'TimeoutError',\n",
       " 'True',\n",
       " 'TypeError',\n",
       " 'UnboundLocalError',\n",
       " 'UnicodeDecodeError',\n",
       " 'UnicodeEncodeError',\n",
       " 'UnicodeError',\n",
       " 'UnicodeTranslateError',\n",
       " 'UnicodeWarning',\n",
       " 'UserWarning',\n",
       " 'ValueError',\n",
       " 'Warning',\n",
       " 'WindowsError',\n",
       " 'ZeroDivisionError',\n",
       " '__IPYTHON__',\n",
       " '__build_class__',\n",
       " '__debug__',\n",
       " '__doc__',\n",
       " '__import__',\n",
       " '__loader__',\n",
       " '__name__',\n",
       " '__package__',\n",
       " '__spec__',\n",
       " 'abs',\n",
       " 'all',\n",
       " 'any',\n",
       " 'ascii',\n",
       " 'bin',\n",
       " 'bool',\n",
       " 'breakpoint',\n",
       " 'bytearray',\n",
       " 'bytes',\n",
       " 'callable',\n",
       " 'chr',\n",
       " 'classmethod',\n",
       " 'compile',\n",
       " 'complex',\n",
       " 'copyright',\n",
       " 'credits',\n",
       " 'delattr',\n",
       " 'dict',\n",
       " 'dir',\n",
       " 'display',\n",
       " 'divmod',\n",
       " 'enumerate',\n",
       " 'eval',\n",
       " 'exec',\n",
       " 'filter',\n",
       " 'float',\n",
       " 'format',\n",
       " 'frozenset',\n",
       " 'get_ipython',\n",
       " 'getattr',\n",
       " 'globals',\n",
       " 'hasattr',\n",
       " 'hash',\n",
       " 'help',\n",
       " 'hex',\n",
       " 'id',\n",
       " 'input',\n",
       " 'int',\n",
       " 'isinstance',\n",
       " 'issubclass',\n",
       " 'iter',\n",
       " 'len',\n",
       " 'license',\n",
       " 'list',\n",
       " 'locals',\n",
       " 'map',\n",
       " 'max',\n",
       " 'memoryview',\n",
       " 'min',\n",
       " 'next',\n",
       " 'object',\n",
       " 'oct',\n",
       " 'open',\n",
       " 'ord',\n",
       " 'pow',\n",
       " 'print',\n",
       " 'property',\n",
       " 'range',\n",
       " 'repr',\n",
       " 'reversed',\n",
       " 'round',\n",
       " 'set',\n",
       " 'setattr',\n",
       " 'slice',\n",
       " 'sorted',\n",
       " 'staticmethod',\n",
       " 'str',\n",
       " 'sum',\n",
       " 'super',\n",
       " 'tuple',\n",
       " 'type',\n",
       " 'vars',\n",
       " 'zip']"
      ]
     },
     "execution_count": 1,
     "metadata": {},
     "output_type": "execute_result"
    }
   ],
   "source": [
    "# Hiç bir paket yüklemeden çalışabileceğimiz nesneler gömülü nesnelerdir.\n",
    "# Gömülü nesneleri dir(__builtins__) ile görebiliriz.\n",
    "\n",
    "dir(__builtins__) #dir o nesnesinin attributelerini verir.\n",
    "# print, dir, exit, input, pow, help, int, bool, vs. paket yüklemeden kullanılabilecek nesneler."
   ]
  },
  {
   "cell_type": "code",
   "execution_count": 2,
   "id": "assumed-gambling",
   "metadata": {},
   "outputs": [
    {
     "data": {
      "text/plain": [
       "9"
      ]
     },
     "execution_count": 2,
     "metadata": {},
     "output_type": "execute_result"
    }
   ],
   "source": [
    "#3'ün karesi\n",
    "pow(3,2)"
   ]
  },
  {
   "cell_type": "markdown",
   "id": "seasonal-rally",
   "metadata": {},
   "source": [
    "### Bilgisayardaki paketi çalışma ortamına alma"
   ]
  },
  {
   "cell_type": "code",
   "execution_count": 6,
   "id": "intelligent-reynolds",
   "metadata": {},
   "outputs": [
    {
     "data": {
      "text/plain": [
       "3.141592653589793"
      ]
     },
     "execution_count": 6,
     "metadata": {},
     "output_type": "execute_result"
    }
   ],
   "source": [
    "#Eğer paket bilgisayarımda yüklü ise import ile çalışma ortamına alırız.\n",
    "import math\n",
    "\n",
    "#nesne hakkında bilgi almak için\n",
    "#dir(math)\n",
    "#help(math)\n",
    "\n",
    "math.pi"
   ]
  },
  {
   "cell_type": "code",
   "execution_count": 7,
   "id": "driven-rehabilitation",
   "metadata": {},
   "outputs": [],
   "source": [
    "import os #işletim sistemi ikişkili işleri yapabiliriz\n",
    "\n",
    "os.mkdir(\"GordugundeSil\")\n",
    "#!mkdir gordugundeSil2"
   ]
  },
  {
   "cell_type": "code",
   "execution_count": 12,
   "id": "occasional-england",
   "metadata": {},
   "outputs": [
    {
     "data": {
      "text/plain": [
       "'C:\\\\Users\\\\Abdullah\\\\Documents\\\\_TPython_\\\\TPython_20211216_S\\\\Gun1'"
      ]
     },
     "execution_count": 12,
     "metadata": {},
     "output_type": "execute_result"
    }
   ],
   "source": [
    "#çalışma yolu\n",
    "os.getcwd()\n",
    "#!cd\n",
    "#!pwd"
   ]
  },
  {
   "cell_type": "markdown",
   "id": "first-somerset",
   "metadata": {},
   "source": [
    "### Paket İndirme Ortama Alma"
   ]
  },
  {
   "cell_type": "code",
   "execution_count": 14,
   "id": "changing-reggae",
   "metadata": {},
   "outputs": [
    {
     "name": "stdout",
     "output_type": "stream",
     "text": [
      "Collecting emoji\n",
      "  Using cached emoji-1.6.1-py3-none-any.whl\n",
      "Installing collected packages: emoji\n",
      "Successfully installed emoji-1.6.1\n"
     ]
    }
   ],
   "source": [
    "#öncelikle paketi indirelim\n",
    "#paket yüklemeyi anaconda üzerinden veya terminalde yapalım.\n",
    "!pip install emoji "
   ]
  },
  {
   "cell_type": "code",
   "execution_count": 23,
   "id": "center-presence",
   "metadata": {},
   "outputs": [
    {
     "name": "stdout",
     "output_type": "stream",
     "text": [
      "Python is fun ❤️\n",
      "Python ile Veri Analizi 📈\n"
     ]
    }
   ],
   "source": [
    "#çalışma ortamına\n",
    "import emoji as em #takma isim verdik\n",
    "\n",
    "#dir(em)\n",
    "#help(em)\n",
    "#help(em.emojize)\n",
    "\n",
    "print(em.emojize(\"Python is fun :red_heart:\",variant=\"emoji_type\"))\n",
    "print(em.emojize(\"Python ile Veri Analizi :chart_increasing:\"))\n",
    "#print(em.EMOJI_UNICODE_ENGLISH)"
   ]
  }
 ],
 "metadata": {
  "kernelspec": {
   "display_name": "Python 3",
   "language": "python",
   "name": "python3"
  },
  "language_info": {
   "codemirror_mode": {
    "name": "ipython",
    "version": 3
   },
   "file_extension": ".py",
   "mimetype": "text/x-python",
   "name": "python",
   "nbconvert_exporter": "python",
   "pygments_lexer": "ipython3",
   "version": "3.8.8"
  },
  "varInspector": {
   "cols": {
    "lenName": 16,
    "lenType": 16,
    "lenVar": 40
   },
   "kernels_config": {
    "python": {
     "delete_cmd_postfix": "",
     "delete_cmd_prefix": "del ",
     "library": "var_list.py",
     "varRefreshCmd": "print(var_dic_list())"
    },
    "r": {
     "delete_cmd_postfix": ") ",
     "delete_cmd_prefix": "rm(",
     "library": "var_list.r",
     "varRefreshCmd": "cat(var_dic_list()) "
    }
   },
   "types_to_exclude": [
    "module",
    "function",
    "builtin_function_or_method",
    "instance",
    "_Feature"
   ],
   "window_display": false
  }
 },
 "nbformat": 4,
 "nbformat_minor": 5
}
