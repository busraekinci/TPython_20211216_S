{
 "cells": [
  {
   "cell_type": "markdown",
   "id": "heavy-transcription",
   "metadata": {},
   "source": [
    "## Paython Standart Veri Tipleri\n",
    "\n",
    "* Diskte veya memoryde veri tutabiliriz.\n",
    "* Memoryde veri tutamak için değişken tanımlamak gerekir. Memoryde ne kadar ve nasıl bir yer ayrılacağını veri tipi belirler.\n",
    "* mesela int için 32 bit yer kaplar.\n",
    "* Python Dynamic Type özelliğine sahiptir. Yani aynı değişkene programın farklı yerlerinde farklı tipten veriler atanabilir.\n",
    "\n",
    "### Standart Veri Tipleri\n",
    "\n",
    "* Standart veri tipleri herhangi bir paket yüklemeden kullanacağınız tiplerdir.\n",
    "\n",
    "1. **Primitive Types:**\n",
    "    * `NoneType`, None Yokluk anlamına gelir. SQL'deki NULL'ın karşılığıdır. (NaN, NA, None şekilnde görünebilir)\n",
    "    * Numeric:\n",
    "        * `int`, `float`, `complex`\n",
    "    * Boolen:\n",
    "        * `bool` yani True/False\n",
    "2. **Container Types:**\n",
    "    * **Sequence Types** (index-Value şeklinde değer. Sıralıdır. Sıra numarası ile elemanlarına erişilebilir)\n",
    "        * `str`, `tuple`, `list`\n",
    "            * \", ' ile tanımlanabilir. \"merhaba\"\n",
    "            * (,,,) veya ,,,, tuple tanımlanır. (1,2,3). tuple elemanları güncellenemez.\n",
    "            * [,,,,] ile liste tanımlanır. [1,2,3]\n",
    "    * **Mapping Types** (Key:Value şeklinde veri tutar. Sıralı değildir. key ile elemanlara erişilebilir.)\n",
    "        * `set`, `dict`\n",
    "        * {,,,,} ile set tanımlanır. Kümeler gibi çalışır. Benzersiz elemanları tutar.\n",
    "        * {key:value , key2:value2} ile dict tanımlanır. json dokumnalarına benzer.\n",
    "        \n",
    "---\n",
    "\n",
    "* **Mutable: (Bir kısmı değiştirilebilir)**\n",
    "    * list, set, dict\n",
    "* **Immutable: (Bir kısmı değiştirileme. Fakat doğrudan atama yapılabilir.)**\n",
    "    * Diğer tipler\n",
    "    \n",
    "**not:** Bu konunun farklı yönlerine ileride odaklanacağız."
   ]
  },
  {
   "cell_type": "code",
   "execution_count": 3,
   "id": "listed-parliament",
   "metadata": {},
   "outputs": [
    {
     "data": {
      "text/plain": [
       "NoneType"
      ]
     },
     "execution_count": 3,
     "metadata": {},
     "output_type": "execute_result"
    }
   ],
   "source": [
    "#type ile herhangi bir nesnesinin tipii öğrenebiliriz\n",
    "#None yokluk anlamına gelir.\n",
    "type(None)"
   ]
  },
  {
   "cell_type": "markdown",
   "id": "sophisticated-equipment",
   "metadata": {},
   "source": [
    "### Numeric"
   ]
  },
  {
   "cell_type": "code",
   "execution_count": 8,
   "id": "arranged-diana",
   "metadata": {},
   "outputs": [
    {
     "name": "stdout",
     "output_type": "stream",
     "text": [
      "<class 'int'>\n",
      "<class 'float'>\n",
      "<class 'complex'>\n"
     ]
    }
   ],
   "source": [
    "#degisken = deger\n",
    "\n",
    "i = 1           #int(1)\n",
    "f = 1.23        #float(1.23)\n",
    "c = 12 + 3j     #comlex(12,3)\n",
    "\n",
    "print(type(i), type(f), type(c), sep=\"\\n\")"
   ]
  },
  {
   "cell_type": "markdown",
   "id": "exact-cincinnati",
   "metadata": {},
   "source": [
    "### Boolen"
   ]
  },
  {
   "cell_type": "code",
   "execution_count": 9,
   "id": "apart-fifteen",
   "metadata": {},
   "outputs": [
    {
     "name": "stdout",
     "output_type": "stream",
     "text": [
      "<class 'bool'> <class 'bool'>\n"
     ]
    }
   ],
   "source": [
    "# True / False\n",
    "t = True    #bool(True)\n",
    "f = False   #bool(False)\n",
    "\n",
    "print(type(t), type(f))"
   ]
  },
  {
   "cell_type": "markdown",
   "id": "interior-portrait",
   "metadata": {},
   "source": [
    "#### Bool Tipi Özel\n",
    "* 0, None veya benzer şekilde yokluk ifade eden veriler (boş liste [], boş tuple () vs) False olarak değerlendirilir\n",
    "* Diğer veriler True olarak değerlendilir."
   ]
  },
  {
   "cell_type": "code",
   "execution_count": 14,
   "id": "blind-outside",
   "metadata": {},
   "outputs": [
    {
     "data": {
      "text/plain": [
       "True"
      ]
     },
     "execution_count": 14,
     "metadata": {},
     "output_type": "execute_result"
    }
   ],
   "source": [
    "#True dönenler\n",
    "\n",
    "True\n",
    "bool(True)\n",
    "\n",
    "bool(1)\n",
    "bool(-1)\n",
    "bool(123)\n",
    "\n",
    "bool(\"metin\")\n",
    "bool(\" \") #space karakteri var."
   ]
  },
  {
   "cell_type": "code",
   "execution_count": 19,
   "id": "statistical-advocacy",
   "metadata": {},
   "outputs": [
    {
     "data": {
      "text/plain": [
       "False"
      ]
     },
     "execution_count": 19,
     "metadata": {},
     "output_type": "execute_result"
    }
   ],
   "source": [
    "#False dönenler\n",
    "\n",
    "False\n",
    "bool(False)\n",
    "\n",
    "bool(0)\n",
    "bool(None)\n",
    "\n",
    "bool(\"\")\n",
    "bool([]) #boş liste []\n",
    "bool(()) #boş tuple ()\n",
    "bool({}) #boş set/dict"
   ]
  },
  {
   "cell_type": "markdown",
   "id": "criminal-college",
   "metadata": {},
   "source": [
    "### Str"
   ]
  },
  {
   "cell_type": "code",
   "execution_count": 20,
   "id": "sustained-recipient",
   "metadata": {},
   "outputs": [
    {
     "data": {
      "text/plain": [
       "str"
      ]
     },
     "execution_count": 20,
     "metadata": {},
     "output_type": "execute_result"
    }
   ],
   "source": [
    "#tek satırlık metinler\n",
    "mesaj = \"merhaba dünyalı\"\n",
    "soru  = 'nasılsın'\n",
    "\n",
    "#çok satırlı metinler için 3'er tırnak kullanırız\n",
    "bilgi = \"\"\" Çok satırlı\n",
    "metinler için \n",
    "tek veya çift tırnaktan \n",
    "3'er adet kullanırız.\n",
    "\"\"\"\n",
    "\n",
    "type(bilgi)"
   ]
  },
  {
   "cell_type": "markdown",
   "id": "incoming-trinidad",
   "metadata": {},
   "source": [
    "### Tuple\n",
    "* immutable: elemanları güncellenemez.\n",
    "* Farklı tipteki verileri bir arada tutabilir"
   ]
  },
  {
   "cell_type": "code",
   "execution_count": 24,
   "id": "recognized-jewel",
   "metadata": {},
   "outputs": [
    {
     "name": "stdout",
     "output_type": "stream",
     "text": [
      "(1, 2, 3, False, True, 'Metin', None)\n",
      "<class 'tuple'>\n"
     ]
    }
   ],
   "source": [
    "t = (1,2,3,False,True,\"Metin\",None)\n",
    "t = 1,2,3,False,True,\"Metin\",None\n",
    "\n",
    "print(t)\n",
    "print(type(t))"
   ]
  },
  {
   "cell_type": "markdown",
   "id": "attractive-plane",
   "metadata": {},
   "source": [
    "### List\n",
    "\n",
    "* mutable: elemanları güncellenebilir.\n",
    "* farklı tipteki değerleri tutabilir."
   ]
  },
  {
   "cell_type": "code",
   "execution_count": 25,
   "id": "intelligent-stations",
   "metadata": {},
   "outputs": [
    {
     "name": "stdout",
     "output_type": "stream",
     "text": [
      "[1, 2, 3, False, 'Metin', None]\n",
      "<class 'list'>\n"
     ]
    }
   ],
   "source": [
    "l = [1,2,3,False,\"Metin\",None]\n",
    "\n",
    "print(l)\n",
    "print(type(l))"
   ]
  },
  {
   "cell_type": "markdown",
   "id": "bright-internship",
   "metadata": {},
   "source": [
    "### Sequencelerin Elemanlarına Ulaşmak\n",
    "* str, list, tuple\n",
    "* sıralıdır. sıra numarası ile elemanlarına ulaşılabilir. Sıra numarası yani index 0'dan başlar\n",
    "* `SequenceNesnesi[IndexNumarası]`"
   ]
  },
  {
   "cell_type": "code",
   "execution_count": 31,
   "id": "global-casino",
   "metadata": {},
   "outputs": [
    {
     "data": {
      "text/plain": [
       "'a'"
      ]
     },
     "execution_count": 31,
     "metadata": {},
     "output_type": "execute_result"
    }
   ],
   "source": [
    "t[5] #tuple. 5.index yani 6. eleman geliyor.\n",
    "l[4] #list. 4. index yani 5. elaman gelir.\n",
    "\n",
    "#str\n",
    "s = \"merhaba\"\n",
    "s[4]"
   ]
  },
  {
   "cell_type": "markdown",
   "id": "following-durham",
   "metadata": {},
   "source": [
    "### Set\n",
    "* Sıralı değil. Küme mantığında çalışır benzersiz elemanlar tutar.\n",
    "* Elemanları immutable olmalıdır.\n",
    "* mutable"
   ]
  },
  {
   "cell_type": "code",
   "execution_count": 32,
   "id": "vital-firewall",
   "metadata": {},
   "outputs": [
    {
     "name": "stdout",
     "output_type": "stream",
     "text": [
      "{0, 1, 2, 'Metin'}\n"
     ]
    }
   ],
   "source": [
    "s = {0,1,2,\"Metin\",False,True,\"Metin\",0}\n",
    "\n",
    "print(s) #benzersiz elemanları tutar. 0 False, 1 veya \"Metin\" True olarak ifade ediliyor."
   ]
  },
  {
   "cell_type": "code",
   "execution_count": 36,
   "id": "broadband-branch",
   "metadata": {},
   "outputs": [
    {
     "name": "stdout",
     "output_type": "stream",
     "text": [
      "{'A', 'L', 'K', 'I', 'B'}\n"
     ]
    }
   ],
   "source": [
    "m = {\"K\",\"A\",\"L\",\"A\",\"B\",\"A\",\"L\",\"I\",\"K\"}\n",
    "\n",
    "print(m)\n",
    "#m[0] #sıra numarası yoktur hata verir. !!!!"
   ]
  },
  {
   "cell_type": "markdown",
   "id": "healthy-memorabilia",
   "metadata": {},
   "source": [
    "### Dict\n",
    "* Sıralı değildir.\n",
    "* Key:Value şeklinde değer tutar.\n",
    "* mutable"
   ]
  },
  {
   "cell_type": "code",
   "execution_count": 38,
   "id": "experimental-taxation",
   "metadata": {},
   "outputs": [
    {
     "name": "stdout",
     "output_type": "stream",
     "text": [
      "{'Ad': 'Abdullah', 'Soyad': 'Kise', 'Yas': 55, 'AktifMi': True, 132132131: 'TC'}\n"
     ]
    }
   ],
   "source": [
    "kv = {\"Ad\":\"Abdullah\", \"Soyad\":\"Kise\",\"Yas\":55, \"AktifMi\":True, 132132131:\"TC\"}\n",
    "#Kural: keyler hashable tip yani immutable olmak zorunda.\n",
    "\n",
    "print(kv)"
   ]
  },
  {
   "cell_type": "code",
   "execution_count": null,
   "id": "monetary-intervention",
   "metadata": {},
   "outputs": [],
   "source": [
    "###"
   ]
  }
 ],
 "metadata": {
  "kernelspec": {
   "display_name": "Python 3",
   "language": "python",
   "name": "python3"
  },
  "language_info": {
   "codemirror_mode": {
    "name": "ipython",
    "version": 3
   },
   "file_extension": ".py",
   "mimetype": "text/x-python",
   "name": "python",
   "nbconvert_exporter": "python",
   "pygments_lexer": "ipython3",
   "version": "3.8.8"
  },
  "varInspector": {
   "cols": {
    "lenName": 16,
    "lenType": 16,
    "lenVar": 40
   },
   "kernels_config": {
    "python": {
     "delete_cmd_postfix": "",
     "delete_cmd_prefix": "del ",
     "library": "var_list.py",
     "varRefreshCmd": "print(var_dic_list())"
    },
    "r": {
     "delete_cmd_postfix": ") ",
     "delete_cmd_prefix": "rm(",
     "library": "var_list.r",
     "varRefreshCmd": "cat(var_dic_list()) "
    }
   },
   "types_to_exclude": [
    "module",
    "function",
    "builtin_function_or_method",
    "instance",
    "_Feature"
   ],
   "window_display": false
  }
 },
 "nbformat": 4,
 "nbformat_minor": 5
}
