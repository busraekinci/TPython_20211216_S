{
 "cells": [
  {
   "cell_type": "markdown",
   "id": "baking-military",
   "metadata": {},
   "source": [
    "## Operatorler\n",
    "\n",
    "### Aritmatik Operatorler\n",
    "\n",
    "* `+, -, *, /`: Dört işlem\n",
    "* `//`: bölme işlemi yapar sonucu tam sayı olarak verir.\n",
    "* `%`: mod alır. Bölümden kalanı verir.\n",
    "* `**`: kuvvetini alır.\n",
    "* `parantez ()`: işlem önceliği için kullanılır."
   ]
  },
  {
   "cell_type": "code",
   "execution_count": 1,
   "id": "formal-routine",
   "metadata": {},
   "outputs": [
    {
     "data": {
      "text/plain": [
       "15.0"
      ]
     },
     "execution_count": 1,
     "metadata": {},
     "output_type": "execute_result"
    }
   ],
   "source": [
    "8/2*(2+2)-1 #parantez içi, çarpma bölme arasında bir işlem önceliği olmadığı soldan sağa hesaplanır."
   ]
  },
  {
   "cell_type": "code",
   "execution_count": 3,
   "id": "sorted-concentrate",
   "metadata": {},
   "outputs": [
    {
     "name": "stdout",
     "output_type": "stream",
     "text": [
      "Hakediş :  3500.0  TL'dir.\n"
     ]
    }
   ],
   "source": [
    "#örn:\n",
    "'''\n",
    "    Haftalık çalışma saati verilen kişinin hakedişini hesaplayalım\n",
    "    - saatlik ücreti değiştirilebilir olsun.\n",
    "    - en az 40 saat çalıştı varsayacağız.\n",
    "    - 40 saat üzerinde saatlik ücretin 1.5 katını kazansın.\n",
    "'''\n",
    "toplamCalismaSuresi = 60\n",
    "saatlikUcret = 50\n",
    "\n",
    "hakedis = 40*saatlikUcret + (toplamCalismaSuresi-40)*(saatlikUcret*1.5)\n",
    "\n",
    "print(\"Hakediş : \", hakedis, \" TL'dir.\")"
   ]
  },
  {
   "cell_type": "code",
   "execution_count": 5,
   "id": "enhanced-mumbai",
   "metadata": {},
   "outputs": [
    {
     "name": "stdout",
     "output_type": "stream",
     "text": [
      "Hipotenüs :  17.0\n"
     ]
    }
   ],
   "source": [
    "#Soru:\n",
    "'''\n",
    "    iki dik kenarı verilen ücgenin hipotenüsünü hesaplayalım.\n",
    "    h^2 = x^2 + y^2\n",
    "'''\n",
    "x = 8 \n",
    "y = 15\n",
    "\n",
    "h = (x**2 + y**2)**0.5 #pow, import math math.sqrt ile yapılabilirdi.\n",
    "\n",
    "print(\"Hipotenüs : \", h)"
   ]
  },
  {
   "cell_type": "code",
   "execution_count": 6,
   "id": "level-intelligence",
   "metadata": {},
   "outputs": [
    {
     "name": "stdout",
     "output_type": "stream",
     "text": [
      "Doğalı   4  yıl ve  8  ay oldu\n"
     ]
    }
   ],
   "source": [
    "#Soru:\n",
    "'''\n",
    "    Ay olarak yaşı verilen bebeğin yıl ve ay olarak gerçek yaşını hesaplalım.\n",
    "    56 aylık bir bebek doğalı 4 yıl 8 ay olmuş\n",
    "'''\n",
    "kacKaylik = 56\n",
    "\n",
    "yil = kacKaylik // 12\n",
    "ay  = kacKaylik % 12\n",
    "\n",
    "print(\"Doğalı  \",yil, \" yıl ve \", ay, \" ay oldu\")"
   ]
  },
  {
   "cell_type": "markdown",
   "id": "authorized-length",
   "metadata": {},
   "source": [
    "### Karşılaştırma\n",
    "\n",
    "* Geriye True/False döndürür\n",
    "* `==` , `!=`\n",
    "* `<, >, <=, >=`"
   ]
  },
  {
   "cell_type": "code",
   "execution_count": 8,
   "id": "efficient-vampire",
   "metadata": {},
   "outputs": [
    {
     "data": {
      "text/plain": [
       "False"
      ]
     },
     "execution_count": 8,
     "metadata": {},
     "output_type": "execute_result"
    }
   ],
   "source": [
    "#örn:verilen sayı çift midir?\n",
    "x = 9\n",
    "\n",
    "x % 2 == 0 #bölümden kalan 0 ise çifttir"
   ]
  },
  {
   "cell_type": "code",
   "execution_count": 9,
   "id": "phantom-future",
   "metadata": {},
   "outputs": [
    {
     "data": {
      "text/plain": [
       "False"
      ]
     },
     "execution_count": 9,
     "metadata": {},
     "output_type": "execute_result"
    }
   ],
   "source": [
    "#örn: değişkendeki veri tipi kontrolü\n",
    "degisken = \"merhaba\"\n",
    "\n",
    "type(degisken) == int #değerin tipi int midir? isinstance fonksiyonunu daha sonra kullanacağız."
   ]
  },
  {
   "cell_type": "markdown",
   "id": "informed-dispute",
   "metadata": {},
   "source": [
    "### Atama\n",
    "\n",
    "* `=`: klasik atama, zincir, unpacking\n",
    "* Bir önceki değere ile işlem yapanar. kümülatif atamalar.\n",
    "    * `+=, -=, *=, /=`\n",
    "    * `//=, %=, **=`\n",
    "\n",
    "**Not:** `x=x+1` ile `x+=1` aynı anlama gelir."
   ]
  },
  {
   "cell_type": "code",
   "execution_count": 14,
   "id": "valuable-cheese",
   "metadata": {},
   "outputs": [
    {
     "name": "stdout",
     "output_type": "stream",
     "text": [
      "1 2 3\n"
     ]
    }
   ],
   "source": [
    "#klasik atama\n",
    "x = 1\n",
    "\n",
    "#zincir atama\n",
    "x = y = 1\n",
    "\n",
    "#unpacking. ileride daha detaylı şekilde göreceğiz.\n",
    "#değişken sayısı ile değer saıysı aynı ise birebir atama olur.\n",
    "x,y,z = 1,2,3\n",
    "\n",
    "#----\n",
    "print(x,y,z)"
   ]
  },
  {
   "cell_type": "code",
   "execution_count": 21,
   "id": "dominant-liquid",
   "metadata": {},
   "outputs": [
    {
     "name": "stdout",
     "output_type": "stream",
     "text": [
      "9.0\n"
     ]
    }
   ],
   "source": [
    "#Kümütlatif olanlar\n",
    "x = 1\n",
    "\n",
    "#\n",
    "x = x+1\n",
    "x +=1\n",
    "\n",
    "#\n",
    "x -=1\n",
    "x *=10\n",
    "x /=3\n",
    "\n",
    "x //=2\n",
    "x **=2\n",
    "\n",
    "#---\n",
    "print(x)"
   ]
  },
  {
   "cell_type": "markdown",
   "id": "musical-audit",
   "metadata": {},
   "source": [
    "### Mantıksal\n",
    "\n",
    "* `and`: her iki taraf True üretirse sonuç True olur.\n",
    "* `or` : herhangi bir taraf True üretrise sonuç True olur.\n",
    "* `not`: mantıksal sonucun sonucun tersini alır. not(şart) ile şart True dönerse False elde edilir"
   ]
  },
  {
   "cell_type": "code",
   "execution_count": 24,
   "id": "incoming-comedy",
   "metadata": {},
   "outputs": [
    {
     "name": "stdout",
     "output_type": "stream",
     "text": [
      "Şarta uyuyor mu?  True\n",
      "Şart uymuyor mu? False\n"
     ]
    }
   ],
   "source": [
    "#örn: x değeri tek ve 3'e tam bölünür mü?\n",
    "x = 15\n",
    "\n",
    "print(\"Şarta uyuyor mu? \", x%2==1 and x%3==0) #her iki şart True üretirse sonnuç True olur.\n",
    "\n",
    "print(\"Şart uymuyor mu?\", not(x%2==1 and x%3==0)) #mantıksal sonucun tersini getirdi."
   ]
  },
  {
   "cell_type": "markdown",
   "id": "based-stevens",
   "metadata": {},
   "source": [
    "### Identity\n",
    "\n",
    "* `id(degiskenAdi)`: degiskenin memorydeki adresini verir.\n",
    "* `is`: adresler aynı mı diye kontrol ederi\n",
    "* `is not`"
   ]
  },
  {
   "cell_type": "code",
   "execution_count": 27,
   "id": "single-grain",
   "metadata": {},
   "outputs": [
    {
     "name": "stdout",
     "output_type": "stream",
     "text": [
      "140718255384368 140718255384368\n",
      "True\n",
      "140718255384368 1978907250224\n",
      "False\n"
     ]
    }
   ],
   "source": [
    "a = 1\n",
    "b = a\n",
    "\n",
    "print(id(a), id(b))\n",
    "print(a is b)\n",
    "\n",
    "b= \"X\"\n",
    "\n",
    "print(id(a), id(b))\n",
    "print(a is b)"
   ]
  },
  {
   "cell_type": "markdown",
   "id": "single-tragedy",
   "metadata": {},
   "source": [
    "### Uyelik\n",
    "\n",
    "* `in`: belirtilen nesne container içerisinde var mı?\n",
    "* `not in`"
   ]
  },
  {
   "cell_type": "code",
   "execution_count": 29,
   "id": "powered-moses",
   "metadata": {},
   "outputs": [
    {
     "data": {
      "text/plain": [
       "False"
      ]
     },
     "execution_count": 29,
     "metadata": {},
     "output_type": "execute_result"
    }
   ],
   "source": [
    "#str container tiptir.\n",
    "\"a\" in \"merhaba\" #a merhaba içerisinde var mı? #True\n",
    " \n",
    "#\n",
    "1000 in [1,2,3] #False"
   ]
  },
  {
   "cell_type": "code",
   "execution_count": 34,
   "id": "based-nelson",
   "metadata": {},
   "outputs": [
    {
     "data": {
      "text/plain": [
       "True"
      ]
     },
     "execution_count": 34,
     "metadata": {},
     "output_type": "execute_result"
    }
   ],
   "source": [
    "#Soru:\n",
    "'''\n",
    "    sqrt fonksiyonu gömülü nesneler içerisinde var mı?\n",
    "    dir(__builtins__) #geriye liste döndürür.\n",
    "'''\n",
    "# type(dir(__builtins__)) #list\n",
    "# type(dir(__builtins__)[0])\n",
    "\n",
    "\"sqrt\" in dir(__builtins__) #math.sqrt içerisinde vardır. Gömülü nesneler arasında mevcut değil"
   ]
  }
 ],
 "metadata": {
  "kernelspec": {
   "display_name": "Python 3",
   "language": "python",
   "name": "python3"
  },
  "language_info": {
   "codemirror_mode": {
    "name": "ipython",
    "version": 3
   },
   "file_extension": ".py",
   "mimetype": "text/x-python",
   "name": "python",
   "nbconvert_exporter": "python",
   "pygments_lexer": "ipython3",
   "version": "3.8.8"
  },
  "varInspector": {
   "cols": {
    "lenName": 16,
    "lenType": 16,
    "lenVar": 40
   },
   "kernels_config": {
    "python": {
     "delete_cmd_postfix": "",
     "delete_cmd_prefix": "del ",
     "library": "var_list.py",
     "varRefreshCmd": "print(var_dic_list())"
    },
    "r": {
     "delete_cmd_postfix": ") ",
     "delete_cmd_prefix": "rm(",
     "library": "var_list.r",
     "varRefreshCmd": "cat(var_dic_list()) "
    }
   },
   "types_to_exclude": [
    "module",
    "function",
    "builtin_function_or_method",
    "instance",
    "_Feature"
   ],
   "window_display": false
  }
 },
 "nbformat": 4,
 "nbformat_minor": 5
}
