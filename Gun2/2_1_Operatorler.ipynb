{
 "cells": [
  {
   "cell_type": "markdown",
   "id": "normal-forty",
   "metadata": {},
   "source": [
    "## Operatorler\n",
    "\n",
    "### Aritmatik Operatorler\n",
    "\n",
    "* `+, -, *, /`: Dört işlem\n",
    "* `//`: bölme işlemi yapar sonucu tam sayı olarak verir.\n",
    "* `%`: mod alır. Bölümden kalanı verir.\n",
    "* `**`: kuvvetini alır.\n",
    "* `parantez ()`: işlem önceliği için kullanılır."
   ]
  },
  {
   "cell_type": "code",
   "execution_count": 1,
   "id": "grave-officer",
   "metadata": {},
   "outputs": [
    {
     "data": {
      "text/plain": [
       "15.0"
      ]
     },
     "execution_count": 1,
     "metadata": {},
     "output_type": "execute_result"
    }
   ],
   "source": [
    "8/2*(2+2)-1 #parantez içi, çarpma bölme arasında bir işlem önceliği olmadığı soldan sağa hesaplanır."
   ]
  },
  {
   "cell_type": "code",
   "execution_count": 3,
   "id": "amateur-medicine",
   "metadata": {},
   "outputs": [
    {
     "name": "stdout",
     "output_type": "stream",
     "text": [
      "Hakediş :  3500.0  TL'dir.\n"
     ]
    }
   ],
   "source": [
    "#örn:\n",
    "'''\n",
    "    Haftalık çalışma saati verilen kişinin hakedişini hesaplayalım\n",
    "    - saatlik ücreti değiştirilebilir olsun.\n",
    "    - en az 40 saat çalıştı varsayacağız.\n",
    "    - 40 saat üzerinde saatlik ücretin 1.5 katını kazansın.\n",
    "'''\n",
    "toplamCalismaSuresi = 60\n",
    "saatlikUcret = 50\n",
    "\n",
    "hakedis = 40*saatlikUcret + (toplamCalismaSuresi-40)*(saatlikUcret*1.5)\n",
    "\n",
    "print(\"Hakediş : \", hakedis, \" TL'dir.\")"
   ]
  },
  {
   "cell_type": "code",
   "execution_count": 5,
   "id": "anonymous-helmet",
   "metadata": {},
   "outputs": [
    {
     "name": "stdout",
     "output_type": "stream",
     "text": [
      "Hipotenüs :  17.0\n"
     ]
    }
   ],
   "source": [
    "#Soru:\n",
    "'''\n",
    "    iki dik kenarı verilen ücgenin hipotenüsünü hesaplayalım.\n",
    "    h^2 = x^2 + y^2\n",
    "'''\n",
    "x = 8 \n",
    "y = 15\n",
    "\n",
    "h = (x**2 + y**2)**0.5 #pow, import math math.sqrt ile yapılabilirdi.\n",
    "\n",
    "print(\"Hipotenüs : \", h)"
   ]
  },
  {
   "cell_type": "code",
   "execution_count": null,
   "id": "human-declaration",
   "metadata": {},
   "outputs": [],
   "source": [
    "#Soru:\n",
    "'''\n",
    "    Ay olarak yaşı verilen bebeğin yıl ve ay olarak gerçek yaşını hesaplalım.\n",
    "    56 aylık bir bebek 4\n",
    "'''"
   ]
  }
 ],
 "metadata": {
  "kernelspec": {
   "display_name": "Python 3",
   "language": "python",
   "name": "python3"
  },
  "language_info": {
   "codemirror_mode": {
    "name": "ipython",
    "version": 3
   },
   "file_extension": ".py",
   "mimetype": "text/x-python",
   "name": "python",
   "nbconvert_exporter": "python",
   "pygments_lexer": "ipython3",
   "version": "3.8.8"
  },
  "varInspector": {
   "cols": {
    "lenName": 16,
    "lenType": 16,
    "lenVar": 40
   },
   "kernels_config": {
    "python": {
     "delete_cmd_postfix": "",
     "delete_cmd_prefix": "del ",
     "library": "var_list.py",
     "varRefreshCmd": "print(var_dic_list())"
    },
    "r": {
     "delete_cmd_postfix": ") ",
     "delete_cmd_prefix": "rm(",
     "library": "var_list.r",
     "varRefreshCmd": "cat(var_dic_list()) "
    }
   },
   "types_to_exclude": [
    "module",
    "function",
    "builtin_function_or_method",
    "instance",
    "_Feature"
   ],
   "window_display": false
  }
 },
 "nbformat": 4,
 "nbformat_minor": 5
}
