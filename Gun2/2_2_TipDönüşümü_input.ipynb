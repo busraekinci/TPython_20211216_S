{
 "cells": [
  {
   "cell_type": "markdown",
   "id": "respective-adoption",
   "metadata": {},
   "source": [
    "## Tip Dönüşümü\n",
    "\n",
    "1. **implicit (örtülü):**\n",
    "    * Dönüşüm için özel bir işlem yapmaya gerek yok. Dönüşüm otomatik gerçekleşir.\n",
    "    * mesela float tipi ile int tipi aynı işlemde bulunabilir.\n",
    "2. **explicit (açık):**\n",
    "    * Otomatik dönüşemeyen tipler için dönüşümün nasıl olacağını tarif etmemiz gerekir.\n",
    "    * Tip dönüşümü için tiplere ait fonksiyonlar kullanılır.\n",
    "        * `int(), float(), complex(), bool(), str(), tuple(), list(), set(), dict()`\n",
    "    * Tip dönüşümü mantıklı değilse hata alınır.\n",
    "        * mesela \"7\" ifadesi 7 sayısına dönüştürülebilir. fakat \"yedi\" dönüşmez."
   ]
  },
  {
   "cell_type": "code",
   "execution_count": 2,
   "id": "looking-market",
   "metadata": {},
   "outputs": [
    {
     "data": {
      "text/plain": [
       "2.17"
      ]
     },
     "execution_count": 2,
     "metadata": {},
     "output_type": "execute_result"
    }
   ],
   "source": [
    "#implicit\n",
    "1 + 1.17 #int ve float ı topladık sonuç float"
   ]
  },
  {
   "cell_type": "code",
   "execution_count": 7,
   "id": "related-housing",
   "metadata": {},
   "outputs": [
    {
     "data": {
      "text/plain": [
       "'1 kişi'"
      ]
     },
     "execution_count": 7,
     "metadata": {},
     "output_type": "execute_result"
    }
   ],
   "source": [
    "#metinsel ifadeleri + işareti yanyana yazar.\n",
    "\"merhaba\" + \"dünyalı\"\n",
    "\n",
    "# Hata!!!\n",
    "#1+\" Kişi\" #int ve str için +operatoru anlamlı değil.\n",
    "\n",
    "#explicit\n",
    "str(1) + \" kişi\" #str(1) ile tip dönüşümü yapıldı. int tipi strye çevrildi.\n",
    "\n",
    "#dönüşümün mantık çerçevesinde olması gerekir.\n",
    "#int(\"yedi\")"
   ]
  },
  {
   "cell_type": "markdown",
   "id": "modern-absence",
   "metadata": {},
   "source": [
    "### input ile dışırdan değer almak\n",
    "* `input(açıklama)` fonksiyonu ile kullanıcıdan değer alabiliriz. Bu değerler str tipinden gelir."
   ]
  },
  {
   "cell_type": "code",
   "execution_count": 11,
   "id": "perceived-attempt",
   "metadata": {},
   "outputs": [
    {
     "name": "stdout",
     "output_type": "stream",
     "text": [
      "Birinci sayıyı giriniz: 10\n",
      "İkinci sayıyı giriniz: 20\n",
      "<class 'str'> <class 'str'>\n",
      "1020\n",
      "Toplam:  30.0\n"
     ]
    }
   ],
   "source": [
    "#örn: dışarıdan alınan iki sayıyı toplayalım\n",
    "\n",
    "s1 = input(\"Birinci sayıyı giriniz: \")\n",
    "s2 = input(\"İkinci sayıyı giriniz: \")\n",
    "\n",
    "print(type(s1), type(s2))\n",
    "print(s1 + s2) #1020\n",
    "\n",
    "#--------------\n",
    "toplam = float(s1) + float(s2) #tip dönüşümü\n",
    "print(\"Toplam: \", toplam)"
   ]
  },
  {
   "cell_type": "markdown",
   "id": "ambient-queens",
   "metadata": {},
   "source": [
    "### tuple, list, set dönüşümü\n",
    "\n",
    "* Containerların her bir elemanı o tipin elemanı haline gelir."
   ]
  },
  {
   "cell_type": "code",
   "execution_count": 12,
   "id": "incorporated-netherlands",
   "metadata": {},
   "outputs": [
    {
     "name": "stdout",
     "output_type": "stream",
     "text": [
      "{1, 2, 3, 10, 'metin', 20}\n"
     ]
    }
   ],
   "source": [
    "l = [1,2,10,\"metin\",20,2,10,3,2,\"metin\"]\n",
    "\n",
    "#\n",
    "s = set(l) #list'i set'e çeviridk.\n",
    "print(s) #set benzersiz olanları tutar."
   ]
  },
  {
   "cell_type": "code",
   "execution_count": 15,
   "id": "eastern-modification",
   "metadata": {},
   "outputs": [
    {
     "data": {
      "text/plain": [
       "{'a', 'b', 'e', 'h', 'm', 'r'}"
      ]
     },
     "execution_count": 15,
     "metadata": {},
     "output_type": "execute_result"
    }
   ],
   "source": [
    "#str container tip\n",
    "metin = \"merhaba\"\n",
    "\n",
    "list(metin)  #['m', 'e', 'r', 'h', 'a', 'b', 'a']\n",
    "tuple(metin) #('m', 'e', 'r', 'h', 'a', 'b', 'a')\n",
    "set(metin)   #{'a', 'b', 'e', 'h', 'm', 'r'}"
   ]
  },
  {
   "cell_type": "markdown",
   "id": "micro-preview",
   "metadata": {},
   "source": [
    "### Dynamic Type Özelliği ve Değişken Silme\n",
    "* Python değişken tipini otomatik algılar."
   ]
  },
  {
   "cell_type": "code",
   "execution_count": 17,
   "id": "south-chester",
   "metadata": {},
   "outputs": [
    {
     "name": "stdout",
     "output_type": "stream",
     "text": [
      "<class 'int'>\n",
      "<class 'str'>\n"
     ]
    }
   ],
   "source": [
    "a = 12\n",
    "print(type(a))\n",
    "\n",
    "#--\n",
    "a = \"metin\" #dynamic typle özelliği sayesinde daha önce int tutan değişken şimdi str tutuyor.\n",
    "print(type(a))"
   ]
  },
  {
   "cell_type": "code",
   "execution_count": 18,
   "id": "fallen-document",
   "metadata": {},
   "outputs": [
    {
     "ename": "NameError",
     "evalue": "name 'a' is not defined",
     "output_type": "error",
     "traceback": [
      "\u001b[1;31m---------------------------------------------------------------------------\u001b[0m",
      "\u001b[1;31mNameError\u001b[0m                                 Traceback (most recent call last)",
      "\u001b[1;32m<ipython-input-18-82aab7a0face>\u001b[0m in \u001b[0;36m<module>\u001b[1;34m\u001b[0m\n\u001b[0;32m      2\u001b[0m \u001b[1;32mdel\u001b[0m \u001b[0ma\u001b[0m\u001b[1;33m\u001b[0m\u001b[1;33m\u001b[0m\u001b[0m\n\u001b[0;32m      3\u001b[0m \u001b[1;33m\u001b[0m\u001b[0m\n\u001b[1;32m----> 4\u001b[1;33m \u001b[0mprint\u001b[0m\u001b[1;33m(\u001b[0m\u001b[0ma\u001b[0m\u001b[1;33m)\u001b[0m\u001b[1;33m\u001b[0m\u001b[1;33m\u001b[0m\u001b[0m\n\u001b[0m",
      "\u001b[1;31mNameError\u001b[0m: name 'a' is not defined"
     ]
    }
   ],
   "source": [
    "# Tanımlı değişkenleri silmek\n",
    "del a\n",
    "\n",
    "print(a)"
   ]
  }
 ],
 "metadata": {
  "kernelspec": {
   "display_name": "Python 3",
   "language": "python",
   "name": "python3"
  },
  "language_info": {
   "codemirror_mode": {
    "name": "ipython",
    "version": 3
   },
   "file_extension": ".py",
   "mimetype": "text/x-python",
   "name": "python",
   "nbconvert_exporter": "python",
   "pygments_lexer": "ipython3",
   "version": "3.8.8"
  },
  "varInspector": {
   "cols": {
    "lenName": 16,
    "lenType": 16,
    "lenVar": 40
   },
   "kernels_config": {
    "python": {
     "delete_cmd_postfix": "",
     "delete_cmd_prefix": "del ",
     "library": "var_list.py",
     "varRefreshCmd": "print(var_dic_list())"
    },
    "r": {
     "delete_cmd_postfix": ") ",
     "delete_cmd_prefix": "rm(",
     "library": "var_list.r",
     "varRefreshCmd": "cat(var_dic_list()) "
    }
   },
   "types_to_exclude": [
    "module",
    "function",
    "builtin_function_or_method",
    "instance",
    "_Feature"
   ],
   "window_display": false
  }
 },
 "nbformat": 4,
 "nbformat_minor": 5
}
