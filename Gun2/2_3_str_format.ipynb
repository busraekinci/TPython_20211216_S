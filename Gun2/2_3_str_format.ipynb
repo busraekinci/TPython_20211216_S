{
 "cells": [
  {
   "cell_type": "markdown",
   "id": "measured-politics",
   "metadata": {},
   "source": [
    "## Str ve Formatlama\n",
    "\n",
    "* \" veya ' ile tek satırlık metinler için\n",
    "* \"\"\" veya ''' ile çok satırlık metinler için"
   ]
  },
  {
   "cell_type": "markdown",
   "id": "armed-georgia",
   "metadata": {},
   "source": [
    "### Bazı str fonksiyonları"
   ]
  },
  {
   "cell_type": "code",
   "execution_count": 6,
   "id": "behind-chancellor",
   "metadata": {},
   "outputs": [],
   "source": [
    "#str attributelerine ulaşalım\n",
    "#dir(str)\n",
    "#help(str)\n",
    "#str.__doc__"
   ]
  },
  {
   "cell_type": "code",
   "execution_count": 26,
   "id": "dimensional-spain",
   "metadata": {},
   "outputs": [],
   "source": [
    "metin = \"MeRhABA DünYALI  \" #sonunda boşluk var."
   ]
  },
  {
   "cell_type": "code",
   "execution_count": 15,
   "id": "scientific-chair",
   "metadata": {},
   "outputs": [
    {
     "data": {
      "text/plain": [
       "'Merhaba Dünyali'"
      ]
     },
     "execution_count": 15,
     "metadata": {},
     "output_type": "execute_result"
    }
   ],
   "source": [
    "#str fonksiyonları şu şekilde kullanılabilir\n",
    "\n",
    "#1.\n",
    "str.title(metin)\n",
    "\n",
    "#2.\n",
    "metin.title()\n",
    "\n",
    "#3.\n",
    "metin.__len__() #magic fonctionlar. bazı durumlarda kullanılması avantajlıdır.\n",
    "#len(metin) #containerların eleman sayısını getirir. \n",
    "\n",
    "#4.\n",
    "metin.strip(\" \").title()\n",
    "str.title(metin.strip(\" \"))"
   ]
  },
  {
   "cell_type": "code",
   "execution_count": 34,
   "id": "cathedral-response",
   "metadata": {},
   "outputs": [
    {
     "data": {
      "text/plain": [
       "'MERHABA DünYALI  '"
      ]
     },
     "execution_count": 34,
     "metadata": {},
     "output_type": "execute_result"
    }
   ],
   "source": [
    "# Kullanışlı fonksiyonlar\n",
    "\n",
    "#\n",
    "len(metin) #karakter sayısını verir.\n",
    "metin.__len__()\n",
    "\n",
    "#\n",
    "metin.title()\n",
    "metin.capitalize() #ilk kelimin ilk harfi büyük\n",
    "metin. upper()\n",
    "metin.lower()\n",
    "\n",
    "#\n",
    "metin.strip(\" \") #belirtilen karakterleri baştan ve sondan siler\n",
    "#metin.rstrip(\" \") ,metin.lstrip()\n",
    "\n",
    "#\n",
    "metin.count(\"YA\") # O ifadeden kaçtane var.\n",
    "\n",
    "#\n",
    "metin.center(50, \"-\") #50 karakter içerisinde ortaladı. boşluklara ikinci parametredekini yazdı.\n",
    "\n",
    "#\n",
    "metin.find(\"A\") #kaçıncı indexte olduğunu. ilkini getirir.\n",
    "\n",
    "#\n",
    "metin.replace(\"eRh\",\"ERH\")#ifadeyi komple değiştirir."
   ]
  },
  {
   "cell_type": "code",
   "execution_count": 36,
   "id": "optical-villa",
   "metadata": {},
   "outputs": [
    {
     "data": {
      "text/plain": [
       "1"
      ]
     },
     "execution_count": 36,
     "metadata": {},
     "output_type": "execute_result"
    }
   ],
   "source": [
    "#soru: metin kaç kelimeden oluşur.\n",
    "\n",
    "metin.strip(\" \").count(\" \") #arada bir boşluk var. 2 kelime mevcut."
   ]
  },
  {
   "cell_type": "code",
   "execution_count": 39,
   "id": "unlikely-ivory",
   "metadata": {},
   "outputs": [
    {
     "data": {
      "text/plain": [
       "'MERhABA DÜnYALı  '"
      ]
     },
     "execution_count": 39,
     "metadata": {},
     "output_type": "execute_result"
    }
   ],
   "source": [
    "#translate\n",
    "#çok fazla karakteri değiştirmek gerekirse kullanırız.\n",
    "tbl=str.maketrans(\"eüI\",\"EÜı\") #{101: 69, 252: 220, 73: 305} ASCII kodları üzerinde\n",
    "metin.translate(tbl)"
   ]
  },
  {
   "cell_type": "code",
   "execution_count": 40,
   "id": "fitted-transition",
   "metadata": {},
   "outputs": [
    {
     "data": {
      "text/plain": [
       "['MeRhABA', 'DünYALI', '', '']"
      ]
     },
     "execution_count": 40,
     "metadata": {},
     "output_type": "execute_result"
    }
   ],
   "source": [
    "metin.split(\" \") #split belirtilen karaktere göre ayırır ve liste döndürür"
   ]
  },
  {
   "cell_type": "code",
   "execution_count": 42,
   "id": "atomic-tulsa",
   "metadata": {},
   "outputs": [
    {
     "data": {
      "text/plain": [
       "'m-e-r-h-a-b-a'"
      ]
     },
     "execution_count": 42,
     "metadata": {},
     "output_type": "execute_result"
    }
   ],
   "source": [
    "#join belirtilen ifade ile container elemanlarını birleştirir. geriye str döndürür.\n",
    "\";\".join([\"Abdullah\",\"Ali\",\"Veli\"])\n",
    "\n",
    "#str container\n",
    "\"-\".join(\"merhaba\")"
   ]
  },
  {
   "cell_type": "markdown",
   "id": "structural-barrel",
   "metadata": {},
   "source": [
    "### is... fonksiyonları"
   ]
  },
  {
   "cell_type": "code",
   "execution_count": 45,
   "id": "drawn-living",
   "metadata": {},
   "outputs": [
    {
     "data": {
      "text/plain": [
       "False"
      ]
     },
     "execution_count": 45,
     "metadata": {},
     "output_type": "execute_result"
    }
   ],
   "source": [
    "#pozitif bir tam sayı mıdır?\n",
    "\"2021\".isdigit() #True\n",
    "\n",
    "\"-2021\".isdigit() #False\n",
    "\"2.021\".isdigit() #False"
   ]
  },
  {
   "cell_type": "code",
   "execution_count": 52,
   "id": "surgical-fluid",
   "metadata": {},
   "outputs": [
    {
     "data": {
      "text/plain": [
       "False"
      ]
     },
     "execution_count": 52,
     "metadata": {},
     "output_type": "execute_result"
    }
   ],
   "source": [
    "#karakter bazlı kontrol yapar.\n",
    "\"2021\".isnumeric() #tüm karakterler numaric mi?\n",
    "\n",
    "#karakterler alfabedeki harflerden mi oluşuyor?\n",
    "\"yirmi\".isalpha()  #True\n",
    "\"yirmi1\".isalpha() #False\n",
    "\n",
    "#sayı veya alfabedeki karekterlerden mi oluşuyor.\n",
    "\"one2\".isalnum()  #True\n",
    "\"pil@v\".isalnum() #@ alfabede yok. False\n"
   ]
  },
  {
   "cell_type": "code",
   "execution_count": 54,
   "id": "regulation-bangkok",
   "metadata": {},
   "outputs": [
    {
     "data": {
      "text/plain": [
       "True"
      ]
     },
     "execution_count": 54,
     "metadata": {},
     "output_type": "execute_result"
    }
   ],
   "source": [
    "\"\\n\".isspace() #karakterin görünmeyen bir karakter olup olmaığını kontrol (\" \", \\n, \\r)"
   ]
  },
  {
   "cell_type": "markdown",
   "id": "unusual-content",
   "metadata": {},
   "source": [
    "### Kaçış Karakterleri"
   ]
  },
  {
   "cell_type": "code",
   "execution_count": 56,
   "id": "historic-socket",
   "metadata": {},
   "outputs": [
    {
     "name": "stdout",
     "output_type": "stream",
     "text": [
      "İstanbul'un\n"
     ]
    }
   ],
   "source": [
    "#Çift tırnak ve tek tırnağı makul şekilde kullanmak gerekir.\n",
    "#print('İstanbul'un')\n",
    "\n",
    "#\n",
    "print(\"İstanbul'un\")\n",
    "\n",
    "#\n",
    "print(\"Bir şair der ki: \\\"havalar güzel!\\\" diye duyduk.\") #\\ ile sağdaki ifadeyi doğrudan yaz demiş oluyoruz."
   ]
  },
  {
   "cell_type": "code",
   "execution_count": 57,
   "id": "biological-anime",
   "metadata": {},
   "outputs": [
    {
     "name": "stdout",
     "output_type": "stream",
     "text": [
      "İstanbul'un\n",
      "        taşı toprağı\n",
      "        altındır.\n",
      "\n"
     ]
    }
   ],
   "source": [
    "print(\"\"\"İstanbul'un\n",
    "        taşı toprağı\n",
    "        altındır.\n",
    "\"\"\")"
   ]
  },
  {
   "cell_type": "code",
   "execution_count": 61,
   "id": "inclusive-beginning",
   "metadata": {},
   "outputs": [
    {
     "name": "stdout",
     "output_type": "stream",
     "text": [
      "İstanbul'un \n",
      "\ttaşı toprağı\n",
      "\taltındır.\n"
     ]
    }
   ],
   "source": [
    "print(\"İstanbul'un \\n\\ttaşı toprağı\\n\\taltındır.\")\n",
    "#\\n ile alt satıra geçtik, \\t tab koymuş olduk."
   ]
  },
  {
   "cell_type": "code",
   "execution_count": 65,
   "id": "subtle-safety",
   "metadata": {},
   "outputs": [
    {
     "name": "stdout",
     "output_type": "stream",
     "text": [
      "C:\n",
      "albur\n",
      "C:\\nalbur\n",
      "C:\\nalbur\n",
      "'C:\\nalbur'\n"
     ]
    }
   ],
   "source": [
    "#Dosya yolları ile ilgili bir problem\n",
    "print(\"C:\\nalbur\") #\\n olduğu için dosya yolu boluzur.\n",
    "\n",
    "#\n",
    "print(\"C:\\\\nalbur\") #\\\\ ile \\ olduğu gibi yaz dedik.\n",
    "\n",
    "#raw string\n",
    "print(r\"C:\\nalbur\") #metnin başında r var. raw string yaptı\n",
    "print(repr(\"C:\\nalbur\")) #repr ile raw string "
   ]
  },
  {
   "cell_type": "markdown",
   "id": "great-attempt",
   "metadata": {},
   "source": [
    "### Unicode | Encode- Decode"
   ]
  },
  {
   "cell_type": "code",
   "execution_count": 72,
   "id": "bright-support",
   "metadata": {},
   "outputs": [
    {
     "name": "stdout",
     "output_type": "stream",
     "text": [
      "Bu bir kedidir 🐈\n"
     ]
    }
   ],
   "source": [
    "#python unicode karakterleri destekler\n",
    "\"\\u221E\"\n",
    "\"\\U0001F60A\"\n",
    "\n",
    "print(\"Bu bir kedidir \\N{cat}\")"
   ]
  },
  {
   "cell_type": "code",
   "execution_count": 77,
   "id": "neither-retail",
   "metadata": {},
   "outputs": [
    {
     "data": {
      "text/plain": [
       "b'Bu i\\xc5\\x9fin k\\xc3\\xa2r\\xc4\\xb1 i\\xc3\\xa7in de\\xc4\\x9fer mi?'"
      ]
     },
     "execution_count": 77,
     "metadata": {},
     "output_type": "execute_result"
    }
   ],
   "source": [
    "#Encode: str'yi byte dizisine çevirmenizi sağlar. Hangi karekter setine göre çevireceğimizi belirtiriz\n",
    "\"Bu işin kârı için değer mi?\".encode() #byte\n",
    "\n",
    "\"Bu işin kârı için değer mi?\".encode(\"windows-1254\",\"ignore\") #byte\n",
    "\"Bu işin kârı için değer mi?\".encode(\"utf-8\",\"ignore\") #byte"
   ]
  },
  {
   "cell_type": "code",
   "execution_count": 81,
   "id": "informative-israel",
   "metadata": {},
   "outputs": [
    {
     "name": "stdout",
     "output_type": "stream",
     "text": [
      "b'Bu i\\xfein k\\xe2r\\xfd i\\xe7in de\\xf0er mi?'\n",
      "Bu işin kârı için değer mi?\n"
     ]
    }
   ],
   "source": [
    "metin = \"Bu işin kârı için değer mi?\"\n",
    "\n",
    "byte_metin = metin.encode(\"windows-1254\") #utf-8\n",
    "print(byte_metin)\n",
    "\n",
    "print(byte_metin.decode(\"windows-1254\")) #decode ile byte dizinisi str'ye çevirdik."
   ]
  },
  {
   "cell_type": "markdown",
   "id": "accomplished-peoples",
   "metadata": {},
   "source": [
    "### Str Formatlama"
   ]
  },
  {
   "cell_type": "code",
   "execution_count": null,
   "id": "signal-monster",
   "metadata": {},
   "outputs": [],
   "source": []
  }
 ],
 "metadata": {
  "kernelspec": {
   "display_name": "Python 3",
   "language": "python",
   "name": "python3"
  },
  "language_info": {
   "codemirror_mode": {
    "name": "ipython",
    "version": 3
   },
   "file_extension": ".py",
   "mimetype": "text/x-python",
   "name": "python",
   "nbconvert_exporter": "python",
   "pygments_lexer": "ipython3",
   "version": "3.8.8"
  },
  "varInspector": {
   "cols": {
    "lenName": 16,
    "lenType": 16,
    "lenVar": 40
   },
   "kernels_config": {
    "python": {
     "delete_cmd_postfix": "",
     "delete_cmd_prefix": "del ",
     "library": "var_list.py",
     "varRefreshCmd": "print(var_dic_list())"
    },
    "r": {
     "delete_cmd_postfix": ") ",
     "delete_cmd_prefix": "rm(",
     "library": "var_list.r",
     "varRefreshCmd": "cat(var_dic_list()) "
    }
   },
   "types_to_exclude": [
    "module",
    "function",
    "builtin_function_or_method",
    "instance",
    "_Feature"
   ],
   "window_display": false
  }
 },
 "nbformat": 4,
 "nbformat_minor": 5
}
